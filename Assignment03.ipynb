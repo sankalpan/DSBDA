{
  "nbformat": 4,
  "nbformat_minor": 0,
  "metadata": {
    "colab": {
      "provenance": []
    },
    "kernelspec": {
      "name": "python3",
      "display_name": "Python 3"
    },
    "language_info": {
      "name": "python"
    }
  },
  "cells": [
    {
      "cell_type": "code",
      "execution_count": 2,
      "metadata": {
        "colab": {
          "base_uri": "https://localhost:8080/"
        },
        "id": "h4dmLhs37wl0",
        "outputId": "21355b7f-b39f-4e03-b4d3-281b40ffebb1"
      },
      "outputs": [
        {
          "output_type": "stream",
          "name": "stdout",
          "text": [
            "   sepal_length  sepal_width  petal_length  petal_width      species\n",
            "0           5.1          3.5           1.4          0.2  Iris-setosa\n",
            "1           4.9          3.0           1.4          0.2  Iris-setosa\n",
            "2           4.7          3.2           1.3          0.2  Iris-setosa\n",
            "3           4.6          3.1           1.5          0.2  Iris-setosa\n",
            "4           5.0          3.6           1.4          0.2  Iris-setosa\n",
            "     sepal_length  sepal_width  petal_length  petal_width         species\n",
            "0             5.1          3.5           1.4          0.2     Iris-setosa\n",
            "1             4.9          3.0           1.4          0.2     Iris-setosa\n",
            "2             4.7          3.2           1.3          0.2     Iris-setosa\n",
            "3             4.6          3.1           1.5          0.2     Iris-setosa\n",
            "4             5.0          3.6           1.4          0.2     Iris-setosa\n",
            "..            ...          ...           ...          ...             ...\n",
            "145           6.7          3.0           5.2          2.3  Iris-virginica\n",
            "146           6.3          2.5           5.0          1.9  Iris-virginica\n",
            "147           6.5          3.0           5.2          2.0  Iris-virginica\n",
            "148           6.2          3.4           5.4          2.3  Iris-virginica\n",
            "149           5.9          3.0           5.1          1.8  Iris-virginica\n",
            "\n",
            "[150 rows x 5 columns]\n"
          ]
        }
      ],
      "source": [
        "import pandas as pd\n",
        "\n",
        "df = pd.read_csv(\"IRIS.csv\")\n",
        "print(df.head())\n",
        "print(df)\n"
      ]
    },
    {
      "cell_type": "code",
      "source": [
        "\n",
        "species_setosa = df[df['species'] == 'Iris-setosa']\n",
        "species_versicolor = df[df['species'] == 'Iris-versicolor']\n",
        "species_virginica = df[df['species'] == 'Iris-virginica']\n",
        "\n",
        "def get_statistics(species_df):\n",
        "    print(\"\\nStatistical Details:\")\n",
        "    print(f\"Mean:\\n{species_df.mean()}\")\n",
        "    print(f\"\\nStandard Deviation:\\n{species_df.std()}\")\n",
        "    print(f\"\\n25th Percentile:\\n{species_df.quantile(0.25)}\")\n",
        "    print(f\"\\n50th Percentile (Median):\\n{species_df.quantile(0.50)}\")\n",
        "    print(f\"\\n75th Percentile:\\n{species_df.quantile(0.75)}\")\n",
        "    print(f\"\\nMax:\\n{species_df.max()}\")\n",
        "    print(f\"\\nMin:\\n{species_df.min()}\")\n",
        "    print(f\"\\nCount:\\n{species_df.count()}\")\n",
        "\n",
        "\n",
        "print(\"Iris-setosa:\")\n",
        "get_statistics(species_setosa.drop(columns='species'))\n",
        "# print(\"\\nIris-versicolor:\")\n",
        "# get_statistics(species_versicolor.drop(columns='species'))\n",
        "# print(\"\\nIris-virginica:\")\n",
        "# get_statistics(species_virginica.drop(columns='species'))"
      ],
      "metadata": {
        "colab": {
          "base_uri": "https://localhost:8080/"
        },
        "id": "btQczGqw8LNw",
        "outputId": "c3da3f70-1124-423b-8b8c-ae8998fb675a"
      },
      "execution_count": 3,
      "outputs": [
        {
          "output_type": "stream",
          "name": "stdout",
          "text": [
            "Iris-setosa:\n",
            "\n",
            "Statistical Details:\n",
            "Mean:\n",
            "sepal_length    5.006\n",
            "sepal_width     3.418\n",
            "petal_length    1.464\n",
            "petal_width     0.244\n",
            "dtype: float64\n",
            "\n",
            "Standard Deviation:\n",
            "sepal_length    0.352490\n",
            "sepal_width     0.381024\n",
            "petal_length    0.173511\n",
            "petal_width     0.107210\n",
            "dtype: float64\n",
            "\n",
            "25th Percentile:\n",
            "sepal_length    4.800\n",
            "sepal_width     3.125\n",
            "petal_length    1.400\n",
            "petal_width     0.200\n",
            "Name: 0.25, dtype: float64\n",
            "\n",
            "50th Percentile (Median):\n",
            "sepal_length    5.0\n",
            "sepal_width     3.4\n",
            "petal_length    1.5\n",
            "petal_width     0.2\n",
            "Name: 0.5, dtype: float64\n",
            "\n",
            "75th Percentile:\n",
            "sepal_length    5.200\n",
            "sepal_width     3.675\n",
            "petal_length    1.575\n",
            "petal_width     0.300\n",
            "Name: 0.75, dtype: float64\n",
            "\n",
            "Max:\n",
            "sepal_length    5.8\n",
            "sepal_width     4.4\n",
            "petal_length    1.9\n",
            "petal_width     0.6\n",
            "dtype: float64\n",
            "\n",
            "Min:\n",
            "sepal_length    4.3\n",
            "sepal_width     2.3\n",
            "petal_length    1.0\n",
            "petal_width     0.1\n",
            "dtype: float64\n",
            "\n",
            "Count:\n",
            "sepal_length    50\n",
            "sepal_width     50\n",
            "petal_length    50\n",
            "petal_width     50\n",
            "dtype: int64\n"
          ]
        }
      ]
    }
  ]
}